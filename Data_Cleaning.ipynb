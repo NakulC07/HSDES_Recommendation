{
 "cells": [
  {
   "cell_type": "code",
   "execution_count": 18,
   "metadata": {},
   "outputs": [],
   "source": [
    "import requests\n",
    "from urllib.parse import urlencode"
   ]
  },
  {
   "cell_type": "code",
   "execution_count": 41,
   "metadata": {},
   "outputs": [],
   "source": [
    "tenant_id = '46c98d88-e344-4ed4-8496-4ed7712e255d'\n",
    "client_id = 'fad045d6-882a-495c-9e85-1fadbea40bd8'\n",
    "redirect_uri = 'https://nga.laas.intel.com/#/nga_fv_gnr'\n",
    "code = '6cb6a189-c89d-4ab4-b170-0137cbb232f3'\n",
    "client_secret = '56e3f6bf-c26d-409b-9e55-b7af0efd6080'\n",
    "scope = 'https://graph.microsoft.com/.default'\n",
    "auth_url = f'https://login.microsoftonline.com/{tenant_id}/oauth2/v2.0/authorize'\n"
   ]
  },
  {
   "cell_type": "code",
   "execution_count": 42,
   "metadata": {},
   "outputs": [
    {
     "name": "stdout",
     "output_type": "stream",
     "text": [
      "https://login.microsoftonline.com/46c98d88-e344-4ed4-8496-4ed7712e255d/oauth2/v2.0/authorize?client_id=fad045d6-882a-495c-9e85-1fadbea40bd8&response_type=code&redirect_uri=https%3A%2F%2Fnga.laas.intel.com%2F%23%2Fnga_fv_gnr&response_mode=query&scope=https%3A%2F%2Fgraph.microsoft.com%2F.default&state=12345\n"
     ]
    }
   ],
   "source": [
    "params = {\n",
    "    'client_id': client_id,\n",
    "    'response_type': 'code',\n",
    "    'redirect_uri': redirect_uri,\n",
    "    'response_mode': 'query',\n",
    "    'scope': scope,\n",
    "    'state': '12345'\n",
    "}\n",
    "\n",
    "print(f'{auth_url}?{urlencode(params)}')"
   ]
  },
  {
   "cell_type": "code",
   "execution_count": 43,
   "metadata": {},
   "outputs": [],
   "source": [
    "data = {\n",
    "    'grant_type': 'authorization_code',\n",
    "    'client_id': client_id,\n",
    "    'client_secret': client_secret,\n",
    "    'code': code,\n",
    "    'redirect_uri': redirect_uri\n",
    "}"
   ]
  },
  {
   "cell_type": "code",
   "execution_count": 44,
   "metadata": {},
   "outputs": [
    {
     "name": "stdout",
     "output_type": "stream",
     "text": [
      "{'error': 'invalid_grant', 'error_description': 'AADSTS9002313: Invalid request. Request is malformed or invalid. Trace ID: d3a4e335-5891-4ae5-93e8-148c46522d00 Correlation ID: aaf13f2a-985d-4ad9-a46b-4b1d73149413 Timestamp: 2024-10-30 11:12:35Z', 'error_codes': [9002313], 'timestamp': '2024-10-30 11:12:35Z', 'trace_id': 'd3a4e335-5891-4ae5-93e8-148c46522d00', 'correlation_id': 'aaf13f2a-985d-4ad9-a46b-4b1d73149413', 'error_uri': 'https://login.microsoftonline.com/error?code=9002313'}\n"
     ]
    },
    {
     "ename": "KeyError",
     "evalue": "'access_token'",
     "output_type": "error",
     "traceback": [
      "\u001b[1;31m---------------------------------------------------------------------------\u001b[0m",
      "\u001b[1;31mKeyError\u001b[0m                                  Traceback (most recent call last)",
      "Cell \u001b[1;32mIn[44], line 5\u001b[0m\n\u001b[0;32m      3\u001b[0m tokens \u001b[38;5;241m=\u001b[39m response\u001b[38;5;241m.\u001b[39mjson()\n\u001b[0;32m      4\u001b[0m \u001b[38;5;28mprint\u001b[39m(tokens)\n\u001b[1;32m----> 5\u001b[0m access_token \u001b[38;5;241m=\u001b[39m \u001b[43mtokens\u001b[49m\u001b[43m[\u001b[49m\u001b[38;5;124;43m'\u001b[39;49m\u001b[38;5;124;43maccess_token\u001b[39;49m\u001b[38;5;124;43m'\u001b[39;49m\u001b[43m]\u001b[49m\n\u001b[0;32m      6\u001b[0m \u001b[38;5;28mprint\u001b[39m(access_token)\n",
      "\u001b[1;31mKeyError\u001b[0m: 'access_token'"
     ]
    }
   ],
   "source": [
    "token_url = f'https://login.microsoftonline.com/{tenant_id}/oauth2/v2.0/token'\n",
    "response = requests.post(token_url, data=data)\n",
    "tokens = response.json()\n",
    "print(tokens)\n",
    "access_token = tokens['access_token']\n",
    "print(access_token)"
   ]
  },
  {
   "cell_type": "code",
   "execution_count": null,
   "metadata": {},
   "outputs": [],
   "source": []
  }
 ],
 "metadata": {
  "kernelspec": {
   "display_name": "Python 3",
   "language": "python",
   "name": "python3"
  },
  "language_info": {
   "codemirror_mode": {
    "name": "ipython",
    "version": 3
   },
   "file_extension": ".py",
   "mimetype": "text/x-python",
   "name": "python",
   "nbconvert_exporter": "python",
   "pygments_lexer": "ipython3",
   "version": "3.10.11"
  }
 },
 "nbformat": 4,
 "nbformat_minor": 2
}
